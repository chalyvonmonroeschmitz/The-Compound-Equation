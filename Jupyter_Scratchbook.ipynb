{
 "cells": [
  {
   "metadata": {
    "ExecuteTime": {
     "end_time": "2025-04-08T00:30:50.728165Z",
     "start_time": "2025-04-08T00:30:47.598Z"
    }
   },
   "cell_type": "code",
   "source": "import pandas as pd",
   "id": "b370553965205c21",
   "outputs": [],
   "execution_count": 2
  },
  {
   "metadata": {
    "ExecuteTime": {
     "end_time": "2025-04-08T00:30:55.026155Z",
     "start_time": "2025-04-08T00:30:55.019157Z"
    }
   },
   "cell_type": "code",
   "source": [
    "def read_csv_to_dataframe(file_name):\n",
    "    \"\"\"\n",
    "    Reads a CSV file and creates a pandas DataFrame from it.\n",
    "\n",
    "    Args:\n",
    "        file_name (str): Path to the CSV file.\n",
    "\n",
    "    Returns:\n",
    "        pd.DataFrame: A pandas DataFrame containing the data from the CSV file.\n",
    "    \"\"\"\n",
    "    try:\n",
    "        # Specify the encoding to handle non-UTF-8 files\n",
    "        df = pd.read_csv(file_name, encoding='ISO-8859-1')\n",
    "        print(f\"Successfully read the file: {file_name}\")\n",
    "        return df\n",
    "    except FileNotFoundError:\n",
    "        print(f\"Error: File {file_name} not found.\")\n",
    "    except pd.errors.EmptyDataError:\n",
    "        print(f\"Error: File {file_name} is empty.\")\n",
    "    except pd.errors.ParserError:\n",
    "        print(f\"Error: File {file_name} contains parsing errors.\")\n",
    "    except UnicodeDecodeError as e:\n",
    "        print(f\"Error: {e}\")\n",
    "    return None"
   ],
   "id": "f077dd7adfa51cc3",
   "outputs": [],
   "execution_count": 3
  },
  {
   "metadata": {
    "ExecuteTime": {
     "end_time": "2025-04-08T00:30:58.701927Z",
     "start_time": "2025-04-08T00:30:58.668812Z"
    }
   },
   "cell_type": "code",
   "source": [
    "# Example usage\n",
    "file_path = \"Data/Chemical_Formulae_Wiki_06042025(Sheet1).csv\"\n",
    "dataframe = read_csv_to_dataframe(file_path)\n",
    "if dataframe is not None:\n",
    "    print(dataframe.head())"
   ],
   "id": "bef1d9c51b708a8b",
   "outputs": [
    {
     "name": "stdout",
     "output_type": "stream",
     "text": [
      "Successfully read the file: Data/Chemical_Formulae_Wiki_06042025(Sheet1).csv\n",
      "  chemical formulae                     title  CAS number\n",
      "0             Ac2O3       actinium(III) oxide  12002-61-8\n",
      "1             AgBF4  Silver tetrafluoroborate  14104-20-2\n",
      "2              AgBr            silver bromide   7785-23-1\n",
      "3             AgBrO        silver hypobromite         NaN\n",
      "4            AgBrO2            silver bromite         NaN\n"
     ]
    }
   ],
   "execution_count": 4
  },
  {
   "metadata": {
    "ExecuteTime": {
     "end_time": "2025-04-08T00:31:24.515015Z",
     "start_time": "2025-04-08T00:31:24.489112Z"
    }
   },
   "cell_type": "code",
   "source": [
    "# Example usage\n",
    "file_path = \"Data/Chemical_Formulae_Wiki_06042025(Sheet1).csv\"\n",
    "dataframe = read_csv_to_dataframe(file_path)\n",
    "\n",
    "if dataframe is not None:\n",
    "    # Output the DataFrame to a text file without headers, separating each line by row\n",
    "    output_file = \"Data/Chemical_Formulae_Wiki_06042025.txt\"\n",
    "    dataframe.to_csv(output_file, index=False, header=False, sep='\\t')\n",
    "    print(f\"Data has been written to {output_file}\")"
   ],
   "id": "95c82b492f3f80b",
   "outputs": [
    {
     "name": "stdout",
     "output_type": "stream",
     "text": [
      "Successfully read the file: Data/Chemical_Formulae_Wiki_06042025(Sheet1).csv\n",
      "Data has been written to Data/Chemical_Formulae_Wiki_06042025.txt\n"
     ]
    }
   ],
   "execution_count": 5
  }
 ],
 "metadata": {
  "kernelspec": {
   "display_name": "Python 3",
   "language": "python",
   "name": "python3"
  },
  "language_info": {
   "codemirror_mode": {
    "name": "ipython",
    "version": 2
   },
   "file_extension": ".py",
   "mimetype": "text/x-python",
   "name": "python",
   "nbconvert_exporter": "python",
   "pygments_lexer": "ipython2",
   "version": "2.7.6"
  }
 },
 "nbformat": 4,
 "nbformat_minor": 5
}
